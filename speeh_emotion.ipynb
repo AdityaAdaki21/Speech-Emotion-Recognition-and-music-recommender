{
 "cells": [
  {
   "cell_type": "code",
   "execution_count": null,
   "metadata": {},
   "outputs": [
    {
     "ename": "ModuleNotFoundError",
     "evalue": "No module named 'librosa'",
     "output_type": "error",
     "traceback": [
      "\u001b[0;31m---------------------------------------------------------------------------\u001b[0m\n",
      "\u001b[0;31mModuleNotFoundError\u001b[0m                       Traceback (most recent call last)\n",
      "Cell \u001b[0;32mIn[1], line 3\u001b[0m\n",
      "\u001b[1;32m      1\u001b[0m \u001b[39mimport\u001b[39;00m \u001b[39mpickle\u001b[39;00m\n",
      "\u001b[1;32m      2\u001b[0m \u001b[39mimport\u001b[39;00m \u001b[39mrandom\u001b[39;00m\n",
      "\u001b[0;32m----> 3\u001b[0m \u001b[39mimport\u001b[39;00m \u001b[39mlibrosa\u001b[39;00m\n",
      "\u001b[1;32m      4\u001b[0m \u001b[39mimport\u001b[39;00m \u001b[39mnumpy\u001b[39;00m \u001b[39mas\u001b[39;00m \u001b[39mnp\u001b[39;00m\n",
      "\u001b[1;32m      5\u001b[0m \u001b[39mimport\u001b[39;00m \u001b[39msoundfile\u001b[39;00m\n",
      "\n",
      "\u001b[0;31mModuleNotFoundError\u001b[0m: No module named 'librosa'"
     ]
    }
   ],
   "source": [
    "import pickle\n",
    "import random\n",
    "import librosa\n",
    "import numpy as np\n",
    "import soundfile"
   ]
  },
  {
   "cell_type": "code",
   "execution_count": null,
   "metadata": {},
   "outputs": [],
   "source": [
    "def get_emotion_label(emotion_code, emotion_dict):\n",
    "    return emotion_dict.get(emotion_code, 'unknown')\n",
    "\n",
    "happy_songs = [\"Aaj Ki Party\", \"Chogada\", \"Ainvayi Ainvayi\",\"Badtameez Dil\",\"London Thumakda\",\"Balam Pichkari\",\"Mauja Hi Mauja\",\"Gallan Goodiyaan\",\"Kar Gayi Chull\",\"Sweety Tera Drama\",\"Radha\",\"Kala Chashma\",\"Nachde Ne Saare\",\"Dance Basanti\",\"Main Tera Boyfriend\",\"Main Tera Boyfriend\",\"Morni Banke\",\"Gallan Kardi\",\"Tamma Tamma Again\",\"Genda Phool\",\"Dil Dhadakne Do\",\"Dhoom Machale\",\"Gal Mithi Mithi Bol\",\"Nashe Si Chadh Gayi\",\"Chaiyya Chaiyya\"]\n",
    "sad_songs = [\"Zinda\", \"Kal Ho Na Ho\",\"Tum Se Hi\", \"Tum Ho\", \"Tujh Mein Rab Dikhta Hai\", \"Tumh Hi Ho\",\"Channa Mereya\",\"Kabira\",\"Tere Bina\",\"Tadap Tadap Ke\",\"Agar Tum Saath Ho\",\"Judaai\",\"Jeene Bhi De\",\"Jiyein Kyun\",\"Dil De Diya Hai\",\"Tera Ban Jaunga\"]\n",
    "angry_songs = [\"Bhaag D.K. Bose\",\"Zinda\",\"Jee Karda\",\"Malhari\",\"Bharat Mata Ki Jai\",\"Go Go Govinda\",\"Bhootni Ke\",\"Chinta Ta Ta Chita Chita\"]\n",
    "fear_songs = [\"Allah Ke Bande\", \"Abhi Mujh Mein Kahin\", \"Zindagi Kaisi Hai Paheli\",\"Bhayanak Maut\",\"Bhor Bhayo\",\"Darr Lag Raha Hai\",\"Zinda Hoon Yaar\",\"Naina\"]\n",
    "neutral_songs = [\"Tum Hi Ho\",\"Phir Le Aaya Dil\",\"Pee Loon\",\"Afreen Afreen\",\"Kahin Toh\",\"Muskurane\",\"Tu Hi Re\",\"Lae Dooba\",\"Nazm Nazm\",\"Naina Da Kya Kasoor\",\"Raat Kamaal Hai\"]\n",
    "calm_songs = [\"Lag Ja Gale\",\"Tum Itna Jo Muskura Rahe Ho\",\"Tu Bin Bataye\",\"Jab Koi Baat\",\"Zara Zara\",\"Raabta\",\"Mera Mann\",\"Tera Ban Jaunga\",\"Kaise Hua\",\"Teri Ore\",\"Tera Zikr\",\"Bheegi Si Bhaagi Si\"]\n",
    "disgust_emotion = [\"Urvashi Urvashi\",\"Yeh Kya Ho Raha Hai\",\"Bhaag D.K. Bose\",\"Disco Disco\",\"Saturday Saturday\",\"Chull\",\"Besharmi Ki Height\",\"Selfie Le Le Re\",\"Sarkai Lo Khatiya\"]\n",
    "surprised_emotion = [\"Ek Do Teen\",\"Oh Oh Jane Jaana\",\"Tamma Tamma Again\",\"Sapne Mein Milti Hai\",\"Khaike Paan Banaraswala\",\"Kajra Re\",\"Twist\",\"Maston Ka Jhund\"]\n",
    "\n",
    "emotions_dict = {'01': 'neutral', '02': 'calm', '03': 'happy', '04': 'sad', '05': 'angry', '06': 'fearful', '07': 'disgust', '08': 'surprised'}"
   ]
  },
  {
   "cell_type": "code",
   "execution_count": null,
   "metadata": {},
   "outputs": [],
   "source": [
    "def extract_feature(file_name, mfcc, chroma, mel):\n",
    "    with soundfile.SoundFile(file_name) as sound_file:\n",
    "        X = sound_file.read(dtype=\"float32\")\n",
    "        sample_rate = sound_file.samplerate\n",
    "        if chroma:\n",
    "            stft = np.abs(librosa.stft(X))\n",
    "        result = None\n",
    "        if mfcc:\n",
    "            mfccs = np.mean(librosa.feature.mfcc(y=X, sr=sample_rate, n_mfcc=40).T, axis=0)\n",
    "            mfccs = mfccs.reshape(1, -1)  # Reshape to have a single row\n",
    "            result = mfccs\n",
    "        if chroma:\n",
    "            chroma = np.mean(librosa.feature.chroma_stft(S=stft, sr=sample_rate).T, axis=0)\n",
    "            if result is None:\n",
    "                result = chroma.reshape(1, -1)\n",
    "            else:\n",
    "                chroma = chroma.reshape(1, -1)\n",
    "                result = np.hstack((result, chroma))\n",
    "        if mel:\n",
    "            mel = np.mean(librosa.feature.melspectrogram(y=X, sr=sample_rate).T, axis=0)\n",
    "            if result is None:\n",
    "                result = mel.reshape(1, -1)\n",
    "            else:\n",
    "                mel = mel.reshape(1, -1)\n",
    "                result = np.hstack((result, mel))\n",
    "    return result"
   ]
  },
  {
   "cell_type": "code",
   "execution_count": null,
   "metadata": {},
   "outputs": [
    {
     "name": "stdout",
     "output_type": "stream",
     "text": [
      "Emotion successfully detected: neutral\n",
      "Neutral emotion detected\n",
      "Recommended song: Phir Le Aaya Dil\n"
     ]
    }
   ],
   "source": [
    "\n",
    "def emotions():\n",
    "    with open(\"Emotion_Voice_Detection_Model.pkl\", \"rb\") as file:\n",
    "        model = pickle.load(file)\n",
    "    \n",
    "    # Load the audio file\n",
    "    file_path = \"C:\\\\Users\\\\Admin\\\\Desktop\\\\TEST Audio\\\\Test 2.wav\"\n",
    "\n",
    "    # Extract features from the audio data\n",
    "    features = extract_feature(file_path, mfcc=True, chroma=True, mel=True)\n",
    "\n",
    "    # Reshape the features array\n",
    "    features = features.reshape(1, -1)\n",
    "\n",
    "    # Predict the emotion\n",
    "    y_pred = model.predict(features)[0]\n",
    "    emotion_code = str(np.argmax(y_pred) + 1).zfill(2)  # Convert prediction to emotion code\n",
    "    emotion = get_emotion_label(emotion_code, emotions_dict)\n",
    "\n",
    "    print('Emotion successfully detected:', emotion)\n",
    "\n",
    "    song = None  # Initialize the song variable\n",
    "    if emotion == 'angry':\n",
    "        print(\"Please calm down and take deep breaths.\\nListening to calm songs might help calm you down :)\")\n",
    "        song = random.choice(angry_songs)\n",
    "    elif emotion == 'sad':\n",
    "        print(\"I'm sorry you're feeling sad, but know that you're not alone and things will get better.\\nListening to some motivating and energetic songs might help uplift your mood :)\")\n",
    "        song = random.choice(sad_songs)\n",
    "    elif emotion == 'happy':\n",
    "        print(\"Keep spreading your positive energy and joy, it's infectious and makes the world a brighter place.\\nHere are some songs you can enjoy :)\")\n",
    "        song = random.choice(happy_songs)\n",
    "    elif emotion == 'fearful':\n",
    "        print(\"Remember that God is always with you, and trust in His love and protection to guide you through this difficult time.\\nHere are a few songs that may help to calm your nerves and ease your fear\")\n",
    "        song = random.choice(fear_songs)\n",
    "    elif emotion == 'neutral':\n",
    "        print(\"Neutral emotion detected\")\n",
    "        song = random.choice(neutral_songs)\n",
    "    elif emotion == 'calm':\n",
    "        print(\"Calm song will be played\")\n",
    "        song = random.choice(calm_songs)\n",
    "    elif emotion == 'disgust':\n",
    "        print(\"how can someone even fill disgusted lol\")\n",
    "        song = random.choice(disgust_emotion)\n",
    "    elif emotion == 'surprised':\n",
    "        print(\"You fill surprised!!\")\n",
    "        song = random.choice(surprised_emotion)\n",
    "\n",
    "    if song:\n",
    "        print(\"Recommended song:\", song)\n",
    "    else:\n",
    "        print(\"No song recommendation available.\")\n",
    "\n",
    "emotions()"
   ]
  }
 ],
 "metadata": {
  "kernelspec": {
   "display_name": "Python 3",
   "language": "python",
   "name": "python3"
  },
  "language_info": {
   "name": "python",
   "version": "3.10.8"
  },
  "orig_nbformat": 4
 },
 "nbformat": 4,
 "nbformat_minor": 2
}
